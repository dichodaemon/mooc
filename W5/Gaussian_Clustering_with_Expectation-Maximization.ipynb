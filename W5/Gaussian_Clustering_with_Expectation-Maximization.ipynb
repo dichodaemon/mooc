{
 "metadata": {
  "name": ""
 },
 "nbformat": 3,
 "nbformat_minor": 0,
 "worksheets": [
  {
   "cells": [
    {
     "cell_type": "markdown",
     "metadata": {},
     "source": [
      "Introduction\n",
      "============\n",
      "\n",
      "In this exercise, we will apply the expectation maximization algorithm to estimate Gaussian parameters."
     ]
    },
    {
     "cell_type": "markdown",
     "metadata": {},
     "source": [
      "We start by importing the required libraries:"
     ]
    },
    {
     "cell_type": "code",
     "collapsed": false,
     "input": [
      "import numpy as np\n",
      "import pylab as pl\n",
      "import scipy as sp\n",
      "import os"
     ],
     "language": "python",
     "metadata": {},
     "outputs": []
    },
    {
     "cell_type": "markdown",
     "metadata": {},
     "source": [
      "Our task will be to visually estimate the number of Gaussians from a series of points and to use the EM algorithm to estimate their values. Let us assume that covariance is the identity for all Gaussians:\n",
      "$$\\Sigma = \\left( \\begin{array}[rr]\n",
      "~1 & 0\\\\\n",
      "0 & 1\\end{array}\\right)$$\n",
      "\n",
      "We can write the covariance and read the data points as follows:"
     ]
    },
    {
     "cell_type": "code",
     "collapsed": false,
     "input": [
      "covariance = [[1.0, 0.0], [0.0, 1.0]]\n",
      "points = np.load( \"data/points.npy\" )"
     ],
     "language": "python",
     "metadata": {},
     "outputs": []
    },
    {
     "cell_type": "markdown",
     "metadata": {},
     "source": [
      "Now, we can plot the points:"
     ]
    },
    {
     "cell_type": "code",
     "collapsed": false,
     "input": [
      "pl.plot( points[:, 0], points[:, 1], \"k.\" );"
     ],
     "language": "python",
     "metadata": {},
     "outputs": []
    },
    {
     "cell_type": "markdown",
     "metadata": {},
     "source": [
      "How many clusters do you see? Assign them to the N variable:"
     ]
    },
    {
     "cell_type": "code",
     "collapsed": false,
     "input": [
      "N = ??? # Insert you value here"
     ],
     "language": "python",
     "metadata": {},
     "outputs": []
    },
    {
     "cell_type": "markdown",
     "metadata": {},
     "source": [
      "Now, let us reuse the EM implementation from our lesson."
     ]
    },
    {
     "cell_type": "code",
     "collapsed": false,
     "input": [
      "def expectation( data, means, covariance, f ):\n",
      "    '''Expectation step'''\n",
      "    N = len( data )  # Number of trajectories\n",
      "    M = len( means ) # Number of clusters\n",
      "    e = np.zeros( ( N, M ) ) # Expectation array\n",
      "    for n in xrange( N ):\n",
      "        for m in xrange( M ):\n",
      "            e[n, m] = f( means[m], covariance, data[n] )\n",
      "        e[n, :] /= np.sum( e[n, :] )\n",
      "    return e\n",
      "\n",
      "def maximization( data, e, means, zero, cummulate ):\n",
      "    '''Maximization step'''\n",
      "    N = len( data )\n",
      "    M = len( means )\n",
      "    for m in xrange( M ):\n",
      "        zero( means[m] )\n",
      "        for n in xrange( N ):\n",
      "            cummulate( e[n, m], means[m], data[n] )\n",
      "        means[m] /= np.sum( e[:, m] ) # Normalize        \n",
      "def u_gaussian_pdf( mean, covariance, value ):\n",
      "    '''Unnormalized Gaussian PDF'''\n",
      "    diff = value - mean\n",
      "    inv = np.linalg.inv( covariance )\n",
      "    return np.exp( - np.dot( np.dot( diff, inv ), diff.transpose() ) )\n",
      "\n",
      "def v_zero( value ):\n",
      "    '''Set vector to zero'''\n",
      "    value[:] = 0\n",
      "\n",
      "def v_cummulate( weight, v1, v2 ):\n",
      "    '''Cummulate weighted vector v2 into v1'''\n",
      "    v1 += weight * v2\n",
      "    \n",
      "def plot_expectations( data, expectations ):\n",
      "    colors = [\"r.\", \"g.\", \"b.\", \"y.\"]\n",
      "    max_expectations = expectations.transpose().max( axis = 0 )\n",
      "    indicators = ( expectations.transpose() >= max_expectations ).transpose()\n",
      "    print data.shape, expectations.shape, indicators.shape\n",
      "    for i in xrange( expectations.shape[1] ):\n",
      "        pl.plot( data[indicators[:, i], 0], data[indicators[:, i], 1], colors[i] )"
     ],
     "language": "python",
     "metadata": {},
     "outputs": []
    },
    {
     "cell_type": "markdown",
     "metadata": {},
     "source": [
      "We can now use those functions to estimate our parameters. First, we need to put an initial guess for our\n",
      "Gaussian Means. We will do this by sampling uniformly in the range where we have points. Please fill the\n",
      "MIN_VALUE and MAX_VALUE fields accordingly:"
     ]
    },
    {
     "cell_type": "code",
     "collapsed": false,
     "input": [
      "MIN_VALUE = ??? # Insert your value here\n",
      "MAX_VALUE = ??? # Insert your value here\n",
      "estimated_means = np.random.uniform( MIN_VALUE, MAX_VALUE, ( N, 2 ) )"
     ],
     "language": "python",
     "metadata": {},
     "outputs": []
    },
    {
     "cell_type": "markdown",
     "metadata": {},
     "source": [
      "Iterate using _CTRL-ENTER_ in the next cell until convergence. If you find that the algorithm converge to a \"bad\" solution, try to start again using different initial guesses by running the cell above."
     ]
    },
    {
     "cell_type": "code",
     "collapsed": false,
     "input": [
      "expectations = expectation( points, estimated_means, covariance, u_gaussian_pdf )\n",
      "maximization( points, expectations, estimated_means, v_zero, v_cummulate )\n",
      "plot_expectations( points, expectations )"
     ],
     "language": "python",
     "metadata": {},
     "outputs": []
    },
    {
     "cell_type": "markdown",
     "metadata": {},
     "source": [
      "Now, you can print your estimated mean values:"
     ]
    },
    {
     "cell_type": "code",
     "collapsed": false,
     "input": [
      "print estimated_means"
     ],
     "language": "python",
     "metadata": {},
     "outputs": []
    },
    {
     "cell_type": "markdown",
     "metadata": {},
     "source": [
      "You can compare your results with the ones we got. By inspection, we found 4 Gaussians with the following means:\n",
      "\n",
      "$$\\mu_1 = (8.69, 2.37)$$\n",
      "$$\\mu_2 = (6.20, 0.58)$$\n",
      "$$\\mu_3 = (3.10, 5.44)$$\n",
      "$$\\mu_4 = (1.64, 1.96)$$"
     ]
    }
   ],
   "metadata": {}
  }
 ]
}