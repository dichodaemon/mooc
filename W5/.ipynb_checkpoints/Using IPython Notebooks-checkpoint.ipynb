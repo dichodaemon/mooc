{
 "metadata": {
  "name": ""
 },
 "nbformat": 3,
 "nbformat_minor": 0,
 "worksheets": [
  {
   "cells": [
    {
     "cell_type": "markdown",
     "metadata": {},
     "source": [
      "Introduction\n",
      "============\n",
      "\n",
      "We are using IPython notebooks for the programming exercises and examples of our MOOC. They allow us to freely mix text, formulas and code into a single document, such as the one you are reading.\n",
      "\n",
      "For the different programs and code snippets, we assume that the student has basic knowledge of Python, which is a very popular programming language. A good way of acquiring the basic skills for this course is to follow our [Python MOOC](http://www.example.com).\n",
      "\n",
      "Using notebooks has several advantages:\n",
      "\n",
      "- Combining code and text into readable documents.\n",
      "- Executing and modifying in-document code.\n",
      "- Since the are executed in a //remote machine// you do not need to install Python in your own machine in order to use them."
     ]
    },
    {
     "cell_type": "markdown",
     "metadata": {},
     "source": [
      "Quickstart\n",
      "----------\n",
      "\n",
      "At the top of every notebook you may find a menu bar and a toolbar containing the most frequently used menu options. You can hover your mouse over them to show a tooltip containing a short description of each button.\n",
      "\n",
      "A notebook is structured as a number of cells which may contain either text or code. Code cells may be recognized because they are preceded by `In [ ]:`. The cell just below is a code cell.\n",
      "\n",
      "In order to execute a given code cell, you need to select it; then, you can either click the execution button in the tool bar (small left-heading triangle) or press *Shift-Enter* in your keyboard. The most common way of going through a notebook is to press *Shift-Enter* starting from the first cell and up to the last one.\n",
      "\n",
      "You may train yourself with the following cell:"
     ]
    },
    {
     "cell_type": "code",
     "collapsed": false,
     "input": [
      "20 * 30"
     ],
     "language": "python",
     "metadata": {},
     "outputs": []
    },
    {
     "cell_type": "markdown",
     "metadata": {},
     "source": [
      "Every time an `In` cell is evaluated, IPython appends to it an `Out` cell containing the results of the code snippet (600 in the former example). IPython also adds a number between the square brakets to indicate the order in which the cells have been evaluated.\n",
      "\n",
      "It is possible to modify and execute again code cells in order to make experiments. You can, for instance, modify the following cell to compute the square root of three, or even evaluate the square root of a negative number in order to see how errors are reported:"
     ]
    },
    {
     "cell_type": "code",
     "collapsed": false,
     "input": [
      "import math\n",
      "math.sqrt( -2 )"
     ],
     "language": "python",
     "metadata": {},
     "outputs": []
    },
    {
     "cell_type": "markdown",
     "metadata": {},
     "source": [
      "You can also evaluate the whole notebook at once using the menu option _Cell -> Run All_.\n",
      "\n",
      "One last piece of advice: unless you are authoring it, remember to __always evaluate the notebook in order, from start to end__. They have been writing by assuming you run them in this way and doing otherwise may yield unexpected results."
     ]
    },
    {
     "cell_type": "markdown",
     "metadata": {},
     "source": [
      "Where to go now?\n",
      "----------------\n",
      "\n",
      "There are several features that we have not described here, we invite you to explore the menu to discover them. Some examples are:\n",
      "\n",
      "- Re-starting the kernel (_Kernel -> Restart_).\n",
      "- Reset the notebook to its original state (_File -> Reset from Origin_).\n",
      "- Download as Python code (_File -> Download as -> Python_).\n",
      "- Share as a read-only URL (_File -> Share static version_).\n",
      "- Insert additional cells (_Insert -> ..._)."
     ]
    }
   ],
   "metadata": {}
  }
 ]
}