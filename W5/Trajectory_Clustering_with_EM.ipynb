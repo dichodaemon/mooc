{
 "metadata": {
  "name": "",
  "notebookname": "Finding typical trajectories",
  "signature": "sha256:2929e3312ead8ed6c1a9b0bda80adf0e5d7231bba3c467cfca4d38af0a8d56a2",
  "version": "1.0"
 },
 "nbformat": 3,
 "nbformat_minor": 0,
 "worksheets": [
  {
   "cells": [
    {
     "cell_type": "markdown",
     "metadata": {},
     "source": [
      "Today, we will apply the trajectory clustering algorithm to a different data set. We will also play with the parameters in order to better understand their effect."
     ]
    },
    {
     "cell_type": "markdown",
     "metadata": {},
     "source": [
      "First, we'll import the scientific and plotting libraries."
     ]
    },
    {
     "cell_type": "code",
     "collapsed": false,
     "input": [
      "import numpy as np\n",
      "import pylab as pl\n",
      "import scipy as sp\n",
      "import random"
     ],
     "language": "python",
     "metadata": {},
     "outputs": []
    },
    {
     "cell_type": "markdown",
     "metadata": {},
     "source": [
      "We will use a different section of the dataset we used in the course"
     ]
    },
    {
     "cell_type": "code",
     "collapsed": false,
     "input": [
      "from behavior_data import data\n",
      "import behavior_helper as bh\n",
      "data = data[500:1000]"
     ],
     "language": "python",
     "metadata": {},
     "outputs": []
    },
    {
     "cell_type": "markdown",
     "metadata": {},
     "source": [
      "Plotting it, this new data do not seem very different from the lesson ones."
     ]
    },
    {
     "cell_type": "code",
     "collapsed": false,
     "input": [
      "bh.plot_trajectories( data )"
     ],
     "language": "python",
     "metadata": {},
     "outputs": []
    },
    {
     "cell_type": "markdown",
     "metadata": {},
     "source": [
      "We take all the functions defined in the lesson"
     ]
    },
    {
     "cell_type": "code",
     "collapsed": false,
     "input": [
      "def t_zero( trajectory ):\n",
      "    trajectory *= 0.0\n",
      "\n",
      "def t_cummulate( weight, t1, t2 ):\n",
      "    t1 += weight * t2\n",
      "        \n",
      "def t_gaussian( mean, covariance, value ):\n",
      "    inv = np.linalg.inv( covariance )\n",
      "    diff = mean - value\n",
      "    dist = -0.5 * np.dot( np.dot( diff, inv ), diff.transpose() )\n",
      "    exp = np.exp( np.diagonal( dist ) )\n",
      "    return np.multiply.reduce( exp )\n",
      "  \n",
      "def expectation( data, means, covariance, f ):\n",
      "    '''Expectation step'''\n",
      "    N = len( data )  # Number of trajectories\n",
      "    M = len( means ) # Number of clusters\n",
      "    e = np.zeros( ( N, M ) ) # Expectation array\n",
      "    for n in xrange( N ):\n",
      "        for m in xrange( M ):\n",
      "            e[n, m] = f( means[m], covariance, data[n] )\n",
      "    return e\n",
      "\n",
      "def maximization( data, e, means, zero, cummulate ):\n",
      "    '''Maximization step'''\n",
      "    N = len( data )\n",
      "    M = len( means )\n",
      "    for m in xrange( M ):\n",
      "        zero( means[m] )\n",
      "        for n in xrange( N ):\n",
      "            cummulate( e[n, m], means[m], data[n] )\n",
      "        means[m] /= np.sum( e[:, m] ) # Normalize\n",
      "        \n",
      "def worst_cluster( e ):\n",
      "    M = e.shape[1]\n",
      "    with_e = np.sum( np.max( e, 1 ) ) # Sum of best cluster scores\n",
      "    cluster_scores = np.zeros( (M, ) )\n",
      "    for m in xrange( M ):\n",
      "        without_e = e.copy()\n",
      "        without_e[:, m] = 0. # Exclude current cluster\n",
      "        cluster_scores[m] = with_e - np.sum( np.max( without_e, 1 ) )\n",
      "    index = np.argmin( cluster_scores )\n",
      "    score = np.min( cluster_scores )\n",
      "    return index, score\n",
      "\n",
      "def worst_trajectory( e, c_index, c_score, visited, data, covariance ):\n",
      "    N = data.shape[0]\n",
      "    M = e.shape[1]\n",
      "\n",
      "    \n",
      "    # Sort trajectories by contribution\n",
      "    traj_contribs = np.sum( e, 1 )\n",
      "    traj_contribs[visited] = 1E6 # Ignore visited\n",
      "    sorted_trajs = np.argsort( traj_contribs )\n",
      "\n",
      "    tmp_e = e.copy()\n",
      "    tmp_e[:, c_index] = 0.0\n",
      "    without_e = np.sum( np.max( e, 1 ) ) \n",
      "    for k in sorted_trajs:\n",
      "        for n in xrange( N ):\n",
      "            tmp_e[n, c_index] = t_gaussian( data[k], covariance, data[n] )\n",
      "        score = np.sum( np.max( tmp_e, 1 ) ) - without_e\n",
      "        if score > c_score:\n",
      "            return k, score\n",
      "    return -1, 0.0"
     ],
     "language": "python",
     "metadata": {},
     "outputs": []
    },
    {
     "cell_type": "markdown",
     "metadata": {},
     "source": [
      "Again, we select trajectories at random and set the covariance"
     ]
    },
    {
     "cell_type": "code",
     "collapsed": false,
     "input": [
      "T = data.shape[1]\n",
      "M = 10\n",
      "N = data.shape[0]\n",
      "\n",
      "means = np.zeros( (M, T, 2) )\n",
      "visited = random.sample( arange( N ), M )\n",
      "for m, n in zip( xrange( M ), visited ):\n",
      "    means[m] = data[n]\n",
      "\n",
      "covariance = np.array( [[16.0, 0.0], [0.0, 16.0]] )"
     ],
     "language": "python",
     "metadata": {},
     "outputs": []
    },
    {
     "cell_type": "markdown",
     "metadata": {},
     "source": [
      "And we run the main loop in order to find the clusters:"
     ]
    },
    {
     "cell_type": "code",
     "collapsed": false,
     "input": [
      "iterations = 20\n",
      "for i in xrange( iterations ):\n",
      "    for j in xrange( 5 ):\n",
      "        e = expectation( data, means, covariance, t_gaussian )\n",
      "        maximization( data, e, means, t_zero, t_cummulate )\n",
      "    if i < iterations - 1:\n",
      "        c_index, c_score = worst_cluster( e )\n",
      "        t_index, t_score = worst_trajectory( e, c_index, c_score, visited, data, covariance )\n",
      "        if t_index == -1:\n",
      "            break\n",
      "        print \"Replacing cluster %i with trajectory %i\" % ( c_index, t_index )\n",
      "        means[c_index] = data[t_index]\n",
      "        visited.append( t_index )\n",
      "bh.plot_clusters( e, data )"
     ],
     "language": "python",
     "metadata": {},
     "outputs": []
    },
    {
     "cell_type": "markdown",
     "metadata": {},
     "source": [
      "Finally, we can plot the obtained typical trajectories."
     ]
    },
    {
     "cell_type": "code",
     "collapsed": false,
     "input": [
      "bh.plot_trajectories( means )"
     ],
     "language": "python",
     "metadata": {},
     "outputs": []
    },
    {
     "cell_type": "markdown",
     "metadata": {},
     "source": [
      "Play with the covariance values and with the initial number of clusters. What effect do they have in the final results? Could you device an algorithm that may augment or reduce the number of clusters?"
     ]
    }
   ],
   "metadata": {}
  }
 ]
}