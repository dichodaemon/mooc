{
 "metadata": {
  "name": "",
  "notebookname": "From typical trajectories to HMM",
  "signature": "sha256:64906e916d294d28af86fa42bcfe275227f875a37048c4a34e7ba27708c2cb9c",
  "version": "1.0"
 },
 "nbformat": 3,
 "nbformat_minor": 0,
 "worksheets": [
  {
   "cells": [
    {
     "cell_type": "markdown",
     "metadata": {},
     "source": [
      "# From typical trajectories to HMM"
     ]
    },
    {
     "cell_type": "markdown",
     "metadata": {},
     "source": [
      "As usual, we import the required libraries."
     ]
    },
    {
     "cell_type": "code",
     "collapsed": false,
     "input": [
      "import numpy as np\n",
      "import pylab as pl\n",
      "import scipy as sp"
     ],
     "language": "python",
     "metadata": {},
     "outputs": []
    },
    {
     "cell_type": "markdown",
     "metadata": {},
     "source": [
      "Also, we import the behavior data and helper modules. We initialize the `clusters` variable with some previously computed clusters."
     ]
    },
    {
     "cell_type": "code",
     "collapsed": false,
     "input": [
      "import behavior_helper as bh\n",
      "import behavior_data as bd\n",
      "clusters = bd.clusters"
     ],
     "language": "python",
     "metadata": {},
     "outputs": []
    },
    {
     "cell_type": "markdown",
     "metadata": {},
     "source": [
      "We plot the clusters."
     ]
    },
    {
     "cell_type": "code",
     "collapsed": false,
     "input": [
      "bh.plot_time_model( clusters )"
     ],
     "language": "python",
     "metadata": {},
     "outputs": []
    },
    {
     "cell_type": "markdown",
     "metadata": {},
     "source": [
      "In order to have a simpler, more compact model, we subsample the original clusters every two samples (0.6 seconds)."
     ]
    },
    {
     "cell_type": "code",
     "collapsed": false,
     "input": [
      "M, T, D = clusters.shape\n",
      "new_t = int( ceil( T / 3.0 ) )\n",
      "\n",
      "means = np.zeros( (10, new_t, 2 ) )\n",
      "for m in xrange( M ):\n",
      "    for t in xrange( new_t ):\n",
      "        count = 0.0\n",
      "        for fast_t in xrange( 3 * t, min( 3 * ( t + 1 ), T ) ):\n",
      "            means[m, t] += clusters[m, fast_t]\n",
      "            count += 1.0\n",
      "        means[m, t] /= count"
     ],
     "language": "python",
     "metadata": {},
     "outputs": []
    },
    {
     "cell_type": "markdown",
     "metadata": {},
     "source": [
      "And we plot the resulting model."
     ]
    },
    {
     "cell_type": "code",
     "collapsed": false,
     "input": [
      "bh.plot_time_model( means )"
     ],
     "language": "python",
     "metadata": {},
     "outputs": []
    },
    {
     "cell_type": "markdown",
     "metadata": {},
     "source": [
      "Now, we will the parameters for the different probability distributions. We start with transition probabilities.\n",
      "\n",
      "$$P([S_t=i]|[S_{t-1}=j]) \\rightarrow A_{ij}$$"
     ]
    },
    {
     "cell_type": "code",
     "collapsed": false,
     "input": [
      "# Fill in transition probabilities\n",
      "\n",
      "a = np.zeros( ( M, new_t, new_t ) )\n",
      "for m in xrange( M ):\n",
      "    for t in xrange( new_t ):\n",
      "        if t < new_t - 1:\n",
      "            # Normal node\n",
      "            a[m, t, t + 1] = 1. / 3. # Advance\n",
      "            a[m, t, t] = 2. / 3.     # Stay in node\n",
      "        else:\n",
      "            # End node\n",
      "            a[m, t, t] = 1."
     ],
     "language": "python",
     "metadata": {},
     "outputs": []
    },
    {
     "cell_type": "markdown",
     "metadata": {},
     "source": [
      "Now, the state prior.\n",
      "\n",
      "\n",
      "$$P[S_{t-1}=i]) \\rightarrow \\pi_{i}$$"
     ]
    },
    {
     "cell_type": "code",
     "collapsed": false,
     "input": [
      "# Fill in priors\n",
      "pi = np.zeros( ( M, new_t ) )\n",
      "\n",
      "for m in xrange( M ):\n",
      "    pi[m, 0] = 1.0\n",
      "\n",
      "pi /= np.sum( pi )"
     ],
     "language": "python",
     "metadata": {},
     "outputs": []
    },
    {
     "cell_type": "markdown",
     "metadata": {},
     "source": [
      "Finally, we set the global covariance for the observation probabilities."
     ]
    },
    {
     "cell_type": "code",
     "collapsed": false,
     "input": [
      "covariance = np.array( [[4.0, 0.0], [0.0, 4.0]] )\n",
      "cov_inv = np.linalg.inv( covariance )"
     ],
     "language": "python",
     "metadata": {},
     "outputs": []
    },
    {
     "cell_type": "markdown",
     "metadata": {},
     "source": [
      "# Using the model for prediction"
     ]
    },
    {
     "cell_type": "markdown",
     "metadata": {},
     "source": [
      "Let's use the last 100 trajectories as test data."
     ]
    },
    {
     "cell_type": "code",
     "collapsed": false,
     "input": [
      "test_data = bd.data[-100:]"
     ],
     "language": "python",
     "metadata": {},
     "outputs": []
    },
    {
     "cell_type": "markdown",
     "metadata": {},
     "source": [
      "We will first implement the filtering algorithm:\n",
      "\n",
      "$$P([S_t=i]|O_{1:T}) = \\frac{1}{Z} P(O_t|(S_t =i)) \\sum_{j=1}^{N} P([S_t=1]|[S_{t-1}=j])P([S_{t-1}=j]|O_{1:t-1})$$"
     ]
    },
    {
     "cell_type": "code",
     "collapsed": false,
     "input": [
      "def filter( belief, a, means, cov_inv, obs, t ):\n",
      "    M, new_t = belief.shape\n",
      "    current = np.zeros( ( M, new_t ) )\n",
      "    for m in xrange( M ):\n",
      "        for i in xrange( new_t ):\n",
      "            for old_t in xrange( new_t ):\n",
      "                diff = means[m, i] - obs[t]\n",
      "                expo = -0.5 * np.dot( np.dot( diff, cov_inv ), diff.transpose() )\n",
      "                current[m, i] += belief[m, old_t] * a[m, old_t, i] * exp( expo ) \n",
      "    current /= np.sum( current )\n",
      "    belief[:] = current[:]"
     ],
     "language": "python",
     "metadata": {},
     "outputs": []
    },
    {
     "cell_type": "markdown",
     "metadata": {},
     "source": [
      "And now the prediction one:\n",
      "\n",
      "$$P([S_{t+H}=i]|O_{1:t})=\\sum_{j=1}^{N} P([S_{t+H}=i]|[S_{t+H-1}=j]) P([S_{t+H-1}=j]|O_{1:t})$$"
     ]
    },
    {
     "cell_type": "code",
     "collapsed": false,
     "input": [
      "def predict( belief, a, steps ):\n",
      "    M, new_t = belief.shape\n",
      "    for t in xrange( steps ):\n",
      "        current = np.zeros( ( M, new_t ) )\n",
      "        for m in xrange( M ):\n",
      "            for i in xrange( new_t ):\n",
      "                for old_t in xrange( new_t ):\n",
      "                    current[m, i] += belief[m, old_t] * a[m, old_t, i]\n",
      "        current /= np.sum( current )\n",
      "        belief = current\n",
      "    return belief"
     ],
     "language": "python",
     "metadata": {},
     "outputs": []
    },
    {
     "cell_type": "code",
     "collapsed": false,
     "input": [
      "for obs in test_data[34:37]:\n",
      "    belief = pi.copy()\n",
      "    for t in xrange( 0, T / 2, 2 ):\n",
      "        filter( belief, a, means, cov_inv, obs, t )\n",
      "        prediction = predict( belief, a, 10 )\n",
      "        bh.plot_belief( means, obs[:t], belief, prediction )        \n",
      "        print \"T = %i\" % ( t, )\n",
      "        pl.show()"
     ],
     "language": "python",
     "metadata": {},
     "outputs": []
    },
    {
     "cell_type": "code",
     "collapsed": false,
     "input": [],
     "language": "python",
     "metadata": {},
     "outputs": []
    }
   ],
   "metadata": {}
  }
 ]
}