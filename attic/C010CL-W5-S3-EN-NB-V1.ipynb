{
 "metadata": {
  "name": "", 
  "version": "1.0",
  "notebookname": "Finding typical trajectories"
 },
 "nbformat": 3,
 "nbformat_minor": 0,
 "worksheets": [
  {
   "cells": [
    {
     "cell_type": "markdown",
     "metadata": {},
     "source": [
      "# Clustering Trajectories with Expectation-Maximization"
     ]
    },
    {
     "cell_type": "markdown",
     "metadata": {},
     "source": [
      "Let's apply last week's knowledge to trajectory clustering. \n",
      "\n",
      "First, we'll import the scientific and plotting libraries."
     ]
    },
    {
     "cell_type": "code",
     "collapsed": false,
     "input": [
      "import numpy as np\n",
      "import pylab as pl\n",
      "import scipy as sp\n",
      "import random"
     ],
     "language": "python",
     "metadata": {},
     "outputs": []
    },
    {
     "cell_type": "markdown",
     "metadata": {},
     "source": [
      "Now, let's import two small modules we have prepared for this session. The first one contains some [trajectory data][1], and the second one is a collection of useful functions we are going to use througout this session.\n",
      "\n",
      "[1]: http://homepages.inf.ed.ac.uk/rbf/FORUMTRACKING/ \"Edinburgh Informatics Forum Pedestrian Database.\""
     ]
    },
    {
     "cell_type": "code",
     "collapsed": false,
     "input": [
      "from behavior_data import data\n",
      "import behavior_helper as bh\n",
      "data = data[:500]"
     ],
     "language": "python",
     "metadata": {},
     "outputs": []
    },
    {
     "cell_type": "markdown",
     "metadata": {},
     "source": [
      "First, we'll take a look at those trajectories."
     ]
    },
    {
     "cell_type": "code",
     "collapsed": false,
     "input": [
      "bh.plot_trajectories( data )"
     ],
     "language": "python",
     "metadata": {},
     "outputs": []
    },
    {
     "cell_type": "markdown",
     "metadata": {},
     "source": [
      "When inspecting the figure, some trajectories that seem to \"belong together\". Finding those groups can be done with the EM algorithm discussed last week. However, that algorithm was designed for point data, which is somewhat different from trajectory data."
     ]
    },
    {
     "cell_type": "markdown",
     "metadata": {},
     "source": [
      "At the end, this is very similar to the two-dimensional data we were using on last session, except that we have several points per data sample (trajectory). Thus, a trajectory may be represented as a sequence $S_n$ of points.\n",
      "\n",
      "$$S_n = \\{p^1_n, \\cdots, p^T_n\\}$$\n",
      "\n",
      "Where each point $p^t_n$ corresponds to the position of person $n$ at time $t$.\n",
      "\n",
      "$$p^t_n = (x^t_n, y^t_n)$$"
     ]
    },
    {
     "cell_type": "markdown",
     "metadata": {},
     "source": [
      "Similarly, if we assume all the clusters to have the same covariance $\\Sigma$, we can represent each cluster $\\theta_m$ as a sequence of two-dimensional mean values.\n",
      "\n",
      "$$\\theta_m = \\{\\mu^1_m, \\cdots, \\mu^T_m\\}$$"
     ]
    },
    {
     "cell_type": "markdown",
     "metadata": {},
     "source": [
      "In order to compute the expectations, we'll make the strong assumption that consecutive positions in the trajectory are mutually independent. This way, we can compute expectations by simply multiplying.\n",
      "\n",
      "$$E^n_m = \\prod_{t = 1}^{T}e^{-(p^t_n - \\mu^t_m) \\Sigma^{-1}(p^t_n - \\mu^t_m)}$$"
     ]
    },
    {
     "cell_type": "markdown",
     "metadata": {},
     "source": [
      "Before programming the respective functions, we need to do something about $T$ which is assumed to be the same all around while, in practice, trajectories may vary in length. We'll solve this by preprocessing the data, padding shorter trajectories with their last known position (i.e. assuming that the person is resting). This has already been done for the data we are using."
     ]
    },
    {
     "cell_type": "markdown",
     "metadata": {},
     "source": [
      "Now, we can write the t_gaussian, t_zero and t_cummulate functions."
     ]
    },
    {
     "cell_type": "code",
     "collapsed": false,
     "input": [
      "def t_zero( trajectory ):\n",
      "    trajectory *= 0.0\n",
      "\n",
      "def t_cummulate( weight, t1, t2 ):\n",
      "    t1 += weight * t2\n",
      "        \n",
      "def t_gaussian( mean, covariance, value ):\n",
      "    inv = np.linalg.inv( covariance )\n",
      "    diff = mean - value\n",
      "    dist = -0.5 * np.dot( np.dot( diff, inv ), diff.transpose() )\n",
      "    exp = np.exp( np.diagonal( dist ) )\n",
      "    return np.multiply.reduce( exp )"
     ],
     "language": "python",
     "metadata": {},
     "outputs": []
    },
    {
     "cell_type": "markdown",
     "metadata": {},
     "source": [
      "We also need a way to initialize the cluster mean values. At this point we are going to do it by selecting trajectories at random."
     ]
    },
    {
     "cell_type": "code",
     "collapsed": false,
     "input": [
      "T = data.shape[1]\n",
      "M = 10\n",
      "N = data.shape[0]\n",
      "\n",
      "means = np.zeros( (M, T, 2) )\n",
      "visited = random.sample( arange( N ), M )\n",
      "for m, n in zip( xrange( M ), visited ):\n",
      "    means[m] = data[n]"
     ],
     "language": "python",
     "metadata": {},
     "outputs": []
    },
    {
     "cell_type": "markdown",
     "metadata": {},
     "source": [
      "Let's plot the resulting means."
     ]
    },
    {
     "cell_type": "code",
     "collapsed": false,
     "input": [
      "bh.plot_trajectories( means )"
     ],
     "language": "python",
     "metadata": {},
     "outputs": []
    },
    {
     "cell_type": "markdown",
     "metadata": {},
     "source": [
      "We also initialize the covariance."
     ]
    },
    {
     "cell_type": "code",
     "collapsed": false,
     "input": [
      "covariance = np.array( [[16.0, 0.0], [0.0, 16.0]] )"
     ],
     "language": "python",
     "metadata": {},
     "outputs": []
    },
    {
     "cell_type": "markdown",
     "metadata": {},
     "source": [
      "Now, let's bring back the expectation and maximization functions from last session."
     ]
    },
    {
     "cell_type": "code",
     "collapsed": false,
     "input": [
      "def expectation( data, means, covariance, f ):\n",
      "    '''Expectation step'''\n",
      "    N = len( data )  # Number of trajectories\n",
      "    M = len( means ) # Number of clusters\n",
      "    e = np.zeros( ( N, M ) ) # Expectation array\n",
      "    for n in xrange( N ):\n",
      "        for m in xrange( M ):\n",
      "            e[n, m] = f( means[m], covariance, data[n] )\n",
      "    return e\n",
      "\n",
      "def maximization( data, e, means, zero, cummulate ):\n",
      "    '''Maximization step'''\n",
      "    N = len( data )\n",
      "    M = len( means )\n",
      "    for m in xrange( M ):\n",
      "        zero( means[m] )\n",
      "        for n in xrange( N ):\n",
      "            cummulate( e[n, m], means[m], data[n] )\n",
      "        means[m] /= np.sum( e[:, m] ) # Normalize"
     ],
     "language": "python",
     "metadata": {},
     "outputs": []
    },
    {
     "cell_type": "markdown",
     "metadata": {},
     "source": [
      "And let's iterate."
     ]
    },
    {
     "cell_type": "code",
     "collapsed": false,
     "input": [
      "e = expectation( data, means, covariance, t_gaussian )\n",
      "maximization( data, e, means, t_zero, t_cummulate )\n",
      "bh.plot_clusters( e, data )"
     ],
     "language": "python",
     "metadata": {},
     "outputs": []
    },
    {
     "cell_type": "code",
     "collapsed": false,
     "input": [
      "for i in xrange( 10 ):\n",
      "    e = expectation( data, means, covariance, t_gaussian )\n",
      "    maximization( data, e, means, t_zero, t_cummulate )\n",
      "bh.plot_clusters( e, data )"
     ],
     "language": "python",
     "metadata": {},
     "outputs": []
    },
    {
     "cell_type": "code",
     "collapsed": false,
     "input": [
      "bh.plot_trajectories( means )"
     ],
     "language": "python",
     "metadata": {},
     "outputs": []
    },
    {
     "cell_type": "markdown",
     "metadata": {},
     "source": [
      "After all those iterations, it seems that not all clusters are contributing in the same way, as shown in the following plot."
     ]
    },
    {
     "cell_type": "code",
     "collapsed": false,
     "input": [
      "cluster_contribs = np.sum( e, 0 )\n",
      "pl.bar( arange( M ), cluster_contribs, color = bh.generate_palette( M ) )"
     ],
     "language": "python",
     "metadata": {},
     "outputs": []
    },
    {
     "cell_type": "markdown",
     "metadata": {},
     "source": [
      "Also, not al trajectories are well represented."
     ]
    },
    {
     "cell_type": "code",
     "collapsed": false,
     "input": [
      "traj_contribs = np.sum( e, 1 )\n",
      "pl.bar( arange( N ), traj_contribs )"
     ],
     "language": "python",
     "metadata": {},
     "outputs": []
    },
    {
     "cell_type": "code",
     "collapsed": false,
     "input": [
      "def worst_cluster( e ):\n",
      "    M = e.shape[1]\n",
      "    with_e = np.sum( np.max( e, 1 ) ) # Sum of best cluster scores\n",
      "    cluster_scores = np.zeros( (M, ) )\n",
      "    for m in xrange( M ):\n",
      "        without_e = e.copy()\n",
      "        without_e[:, m] = 0. # Exclude current cluster\n",
      "        cluster_scores[m] = with_e - np.sum( np.max( without_e, 1 ) )\n",
      "    index = np.argmin( cluster_scores )\n",
      "    score = np.min( cluster_scores )\n",
      "    return index, score\n",
      "\n",
      "def worst_trajectory( e, c_index, c_score, visited, data, covariance ):\n",
      "    N = data.shape[0]\n",
      "    M = e.shape[1]\n",
      "\n",
      "    \n",
      "    # Sort trajectories by contribution\n",
      "    traj_contribs = np.sum( e, 1 )\n",
      "    traj_contribs[visited] = 1E6 # Ignore visited\n",
      "    sorted_trajs = np.argsort( traj_contribs )\n",
      "\n",
      "    tmp_e = e.copy()\n",
      "    tmp_e[:, c_index] = 0.0\n",
      "    without_e = np.sum( np.max( e, 1 ) ) \n",
      "    for k in sorted_trajs:\n",
      "        for n in xrange( N ):\n",
      "            tmp_e[n, c_index] = t_gaussian( data[k], covariance, data[n] )\n",
      "        score = np.sum( np.max( tmp_e, 1 ) ) - without_e\n",
      "        if score > c_score:\n",
      "            return k, score\n",
      "    return -1, 0.0"
     ],
     "language": "python",
     "metadata": {},
     "outputs": []
    },
    {
     "cell_type": "code",
     "collapsed": false,
     "input": [
      "iterations = 20\n",
      "for i in xrange( iterations ):\n",
      "    for j in xrange( 5 ):\n",
      "        e = expectation( data, means, covariance, t_gaussian )\n",
      "        maximization( data, e, means, t_zero, t_cummulate )\n",
      "    if i < iterations - 1:\n",
      "        c_index, c_score = worst_cluster( e )\n",
      "        t_index, t_score = worst_trajectory( e, c_index, c_score, visited, data, covariance )\n",
      "        if t_index == -1:\n",
      "            break\n",
      "        print \"Replacing cluster %i with trajectory %i\" % ( c_index, t_index )\n",
      "        means[c_index] = data[t_index]\n",
      "        visited.append( t_index )\n",
      "bh.plot_clusters( e, data )"
     ],
     "language": "python",
     "metadata": {},
     "outputs": []
    },
    {
     "cell_type": "code",
     "collapsed": false,
     "input": [
      "bh.plot_trajectories( means )"
     ],
     "language": "python",
     "metadata": {},
     "outputs": []
    },
    {
     "cell_type": "code",
     "collapsed": false,
     "input": [
      "cluster_contribs = np.sum( e, 0 )\n",
      "pl.bar( arange( M ), cluster_contribs, color = bh.generate_palette( M ) )"
     ],
     "language": "python",
     "metadata": {},
     "outputs": []
    },
    {
     "cell_type": "code",
     "collapsed": false,
     "input": [
      "traj_contribs = np.sum( e, 1 )\n",
      "pl.bar( arange( N ), traj_contribs )"
     ],
     "language": "python",
     "metadata": {},
     "outputs": []
    },
    {
     "cell_type": "code",
     "collapsed": false,
     "input": [],
     "language": "python",
     "metadata": {},
     "outputs": []
    }
   ],
   "metadata": {}
  }
 ]
}
